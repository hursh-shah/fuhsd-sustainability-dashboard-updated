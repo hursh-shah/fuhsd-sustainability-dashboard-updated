{
 "cells": [
  {
   "cell_type": "code",
   "execution_count": 1,
   "metadata": {},
   "outputs": [],
   "source": [
    "import pandas as pd\n",
    "import json\n",
    "import os"
   ]
  },
  {
   "cell_type": "code",
   "execution_count": 2,
   "metadata": {},
   "outputs": [
    {
     "name": "stdout",
     "output_type": "stream",
     "text": [
      "Error processing Cupertino.csv: [Errno 2] No such file or directory: '/mnt/data/Cupertino.csv'\n",
      "Error processing District Office.csv: [Errno 2] No such file or directory: '/mnt/data/District Office.csv'\n",
      "Error processing Fremont.csv: [Errno 2] No such file or directory: '/mnt/data/Fremont.csv'\n",
      "Error processing Homestead.csv: [Errno 2] No such file or directory: '/mnt/data/Homestead.csv'\n",
      "Error processing Lynbrook.csv: [Errno 2] No such file or directory: '/mnt/data/Lynbrook.csv'\n",
      "Error processing Monta Vista.csv: [Errno 2] No such file or directory: '/mnt/data/Monta Vista.csv'\n"
     ]
    }
   ],
   "source": [
    "# Define the file names\n",
    "file_names = [\"Cupertino.csv\", \"District Office.csv\", \"Fremont.csv\", \"Homestead.csv\", \"Lynbrook.csv\", \"Monta Vista.csv\"]\n",
    "\n",
    "# Directory paths\n",
    "input_directory = '/mnt/data/'\n",
    "output_directory = '/mnt/data/processed/'\n",
    "\n",
    "# Create output directory if not exists\n",
    "if not os.path.exists(output_directory):\n",
    "    os.makedirs(output_directory)\n",
    "\n",
    "# Function to process CSV files\n",
    "def process_csv(file_name):\n",
    "    try:\n",
    "        # Read the CSV file\n",
    "        df = pd.read_csv(input_directory + file_name)\n",
    "        \n",
    "        # Print columns for debugging\n",
    "        print(f\"Processing {file_name}\")\n",
    "        print(f\"Columns: {df.columns.tolist()}\")\n",
    "        \n",
    "        # Extract Date and CO2 columns\n",
    "        if file_name == \"District Office.csv\":\n",
    "            co2_column = 'Total'\n",
    "        else:\n",
    "            co2_column = [col for col in df.columns if 'CO2' in col or 'Carbon' in col]\n",
    "            if not co2_column:\n",
    "                print(f\"No CO2/Carbon column found in {file_name}\")\n",
    "                return\n",
    "            co2_column = co2_column[0]\n",
    "        \n",
    "        df_co2 = df[[' Date', co2_column]].copy()\n",
    "        \n",
    "        # Rename columns\n",
    "        df_co2.columns = ['Date', 'CO2']\n",
    "        \n",
    "        # Save to new CSV\n",
    "        output_csv_file = output_directory + file_name.replace('.csv', '_co2.csv')\n",
    "        df_co2.to_csv(output_csv_file, index=False)\n",
    "        \n",
    "        # Convert to JSON\n",
    "        json_data = df_co2.to_json(orient='records')\n",
    "        output_json_file = output_csv_file.replace('.csv', '.json')\n",
    "        with open(output_json_file, 'w') as json_file:\n",
    "            json_file.write(json_data)\n",
    "        \n",
    "        print(f\"Processed {file_name} successfully.\")\n",
    "    \n",
    "    except Exception as e:\n",
    "        print(f\"Error processing {file_name}: {e}\")\n",
    "\n",
    "# Process each file\n",
    "for file_name in file_names:\n",
    "    process_csv(file_name)"
   ]
  },
  {
   "cell_type": "code",
   "execution_count": 31,
   "metadata": {},
   "outputs": [
    {
     "name": "stdout",
     "output_type": "stream",
     "text": [
      "292\n",
      "13.016829293800502 289.7839189371955\n",
      "KWH PER HOUR 2.695145267178533\n"
     ]
    },
    {
     "data": {
      "text/plain": [
       "np.float64(4.1532980400900685)"
      ]
     },
     "execution_count": 31,
     "metadata": {},
     "output_type": "execute_result"
    }
   ],
   "source": [
    "import pandas as pd\n",
    "import json\n",
    "\n",
    "ev_data = pd.read_csv('./fuhsd_22_23_ev_data.csv')\n",
    "print(ev_data.shape[0])\n",
    "#print(ev_data.columns)\n",
    "# print(ev_data.head())\n",
    "#print(ev_data[['GHGs avoided (lbs)']].sum()) # sum of GHGs avoided over the year\n",
    "\n",
    "# convert data types\n",
    "ev_data['AVG KWh Delivered Per Session (kWh)'] = ev_data['AVG KWh Delivered Per Session (kWh)'].astype(float)\n",
    "ev_data['AVG Session Duration (minutes)'] = ev_data['AVG Session Duration (minutes)'].astype(float)\n",
    "\n",
    "# drop nonzeros -- they unnecessarily drag down average, as there's no charging happening\n",
    "kwh_nonzero_avg = ev_data[ev_data['AVG KWh Delivered Per Session (kWh)'] > 0.01]['AVG KWh Delivered Per Session (kWh)'].mean()\n",
    "dur_nonzero_avg = ev_data[ev_data['AVG Session Duration (minutes)'] > 0.01]['AVG Session Duration (minutes)'].mean()\n",
    "\n",
    "print(kwh_nonzero_avg, dur_nonzero_avg)\n",
    "\n",
    "# convert duration to hours\n",
    "dur_hours = dur_nonzero_avg/60\n",
    "dur_hours\n",
    "\n",
    "# total GHGs avoided PER CHARGER PER DAY = user_entered_hrs * kwh/hr (<-- total kWh per charger per day, on average) * 0.000699 * 2204.62\n",
    "kwh_per_hr = kwh_nonzero_avg/dur_hours\n",
    "print(\"KWH PER HOUR\", kwh_per_hr) # ~2.695\n",
    "ghgs_per_charger_per_day = kwh_per_hr * 2204.62 * 0.000699\n",
    "\n",
    "ghgs_per_charger_per_day # ~4.1533 is the DEFAULT VALUE for the slider\n",
    "\n",
    "# so the slider formula will be:\n",
    "# user_entered_hrs * 2.695 * 1.79 *  2204.62 * 0.000404 * user_entered_charger_num\n",
    "\n",
    "# for trees it'll be user_entered_hrs * 2.695 * 0.0116\n",
    "\n",
    "'''\n",
    "ok so now\n",
    "'''\n"
   ]
  },
  {
   "cell_type": "code",
   "execution_count": 17,
   "metadata": {},
   "outputs": [
    {
     "name": "stdout",
     "output_type": "stream",
     "text": [
      "Date     object\n",
      "CO2     float64\n",
      "dtype: object\n",
      "CO2    2224278.99\n",
      "dtype: float64\n",
      "Date     object\n",
      "CO2     float64\n",
      "dtype: object\n",
      "CO2    3651025.68\n",
      "dtype: float64\n",
      "Date     object\n",
      "CO2     float64\n",
      "dtype: object\n",
      "CO2    2212113.15\n",
      "dtype: float64\n",
      "Date     object\n",
      "CO2     float64\n",
      "dtype: object\n",
      "CO2    650868.99\n",
      "dtype: float64\n",
      "TOTAL IS CO2    8738286.81\n",
      "dtype: float64\n"
     ]
    }
   ],
   "source": [
    "total = 0\n",
    "schools=['Cupertino', 'Fremont', 'Lynbrook', 'District Office']\n",
    "for s in schools:\n",
    "    df = pd.read_csv('./data_processed/' + s + '_co2.csv')\n",
    "    df[['CO2']] = df[['CO2']].astype(float)\n",
    "    print(df.dtypes)\n",
    "    sum_co2 = df[['CO2']].sum()\n",
    "    print(sum_co2)\n",
    "    total += sum_co2\n",
    "\n",
    "print(\"TOTAL IS\", total)"
   ]
  },
  {
   "cell_type": "code",
   "execution_count": 6,
   "metadata": {},
   "outputs": [
    {
     "name": "stdout",
     "output_type": "stream",
     "text": [
      "Emissions data has been processed and saved.\n"
     ]
    }
   ],
   "source": [
    "# Emissions data for each school\n",
    "emissions_data = {\n",
    "    \"Fremont High School\": 266406.13,\n",
    "    \"Cupertino High School\": 1138238.97,\n",
    "    \"Monta Vista High School\": 3281710.55,\n",
    "    \"Lynbrook High School\": 999497.58,\n",
    "    \"Homestead High School\": 1243537.7\n",
    "}\n",
    "\n",
    "# Save individual emissions data to JSON files\n",
    "os.makedirs(\"data_processed\", exist_ok=True)\n",
    "for school, emissions in emissions_data.items():\n",
    "    file_name = f\"data_processed/{school.replace(' ', '_').lower()}_total_emissions.json\"\n",
    "    with open(file_name, 'w') as f:\n",
    "        json.dump({\"total_emissions\": emissions}, f)\n",
    "\n",
    "# Calculate and save total emissions for the district\n",
    "total_emissions = sum(emissions_data.values())\n",
    "with open(\"data_processed/FUHSD_total_emissions.json\", 'w') as f:\n",
    "    json.dump({\"total_emissions\": total_emissions}, f)\n",
    "\n",
    "# Load and analyze district office emissions data for 2023\n",
    "with open('data_processed/District Office_co2.json') as f:\n",
    "    district_office_data = json.load(f)\n",
    "\n",
    "district_office_2023_emissions = sum(\n",
    "    entry[\"CO2\"] for entry in district_office_data if entry[\"Date\"].endswith(\"2023\")\n",
    ")\n",
    "\n",
    "# Save district office 2023 emissions to JSON\n",
    "with open(\"data_processed/district_office_emissions.json\", 'w') as f:\n",
    "    json.dump({\"total_emissions_2023\": district_office_2023_emissions}, f)\n",
    "\n",
    "# Add district office 2023 emissions to the total emissions\n",
    "total_emissions += district_office_2023_emissions\n",
    "\n",
    "# Save updated total emissions for the district\n",
    "with open(\"data_processed/FUHSD_total_emissions.json\", 'w') as f:\n",
    "    json.dump({\"total_emissions\": total_emissions}, f)\n",
    "\n",
    "# Save district office 2023 emissions to JSON\n",
    "with open(\"data_processed/district_office_emissions.json\", 'w') as f:\n",
    "    json.dump({\"total_emissions_2023\": district_office_2023_emissions}, f)\n",
    "\n",
    "print(\"Emissions data has been processed and saved.\")"
   ]
  },
  {
   "cell_type": "code",
   "execution_count": 14,
   "metadata": {},
   "outputs": [
    {
     "name": "stdout",
     "output_type": "stream",
     "text": [
      "Equivalent data has been calculated and saved.\n"
     ]
    }
   ],
   "source": [
    "# found through the US gov: https://www.epa.gov/energy/frequent-questions-epas-greenhouse-gas-equivalencies-calculator#:~:text=According%20to%20the%20Calculations%20and,per%20year%20from%20electricity%20alone., and https://www.fs.usda.gov/about-agency/features/trees-are-climate-change-carbon-storage-heroes#:~:text=In%20one%20year%2C%20a%20mature,atmosphere%2C%20like%20fire%20or%20decomposition.\n",
    "CO2_PER_TREE = 21.77209  # CO2 offset per tree in kg per year\n",
    "CO2_PER_HOME_YEARLY = 10969.99097832  # CO2 emissions per home in kg per year \n",
    "\n",
    "# Load the total emissions for the district\n",
    "with open(\"data_processed/FUHSD_total_emissions.json\") as f:\n",
    "    fuhsd_total_emissions = json.load(f)[\"total_emissions\"]\n",
    "\n",
    "# Calculate the number of trees equivalent\n",
    "trees_equivalent = fuhsd_total_emissions / CO2_PER_TREE\n",
    "\n",
    "# Calculate the number of homes equivalent\n",
    "homes_equivalent = fuhsd_total_emissions / CO2_PER_HOME_YEARLY\n",
    "\n",
    "# Save the results to JSON files\n",
    "os.makedirs(\"data_processed\", exist_ok=True)\n",
    "\n",
    "with open(\"data_processed/FUHSD_trees_equivalent.json\", 'w') as f:\n",
    "    json.dump({\"trees_equivalent\": trees_equivalent}, f)\n",
    "\n",
    "with open(\"data_processed/FUHSD_homes_equivalent.json\", 'w') as f:\n",
    "    json.dump({\"homes_equivalent\": homes_equivalent}, f)\n",
    "\n",
    "print(\"Equivalent data has been calculated and saved.\")"
   ]
  },
  {
   "cell_type": "code",
   "execution_count": 15,
   "metadata": {},
   "outputs": [
    {
     "data": {
      "text/plain": [
       "{68: 2334600.4143000003,\n",
       " 69: 2546836.8156000003,\n",
       " 70: 2759073.2169000003,\n",
       " 71: 2971309.6182000004,\n",
       " 72: 3183546.0195000004}"
      ]
     },
     "execution_count": 15,
     "metadata": {},
     "output_type": "execute_result"
    }
   ],
   "source": [
    "#optimal temps from silvera, HVAC percent from study silvera sent, degree impact from this study: https://research.uga.edu/news/turn-up-the-thermostat-lower-energy-costs-no-complaints/#:~:text=%E2%80%9COver%20the%20years%2C%20studies%20have,settings)%2C%E2%80%9D%20he%20said.\n",
    "\n",
    "OPTIMAL_TEMP_SUMMER = 72\n",
    "OPTIMAL_TEMP_WINTER = 68\n",
    "HVAC_BASE_PERCENTAGE = 0.33\n",
    "HVAC_DEGREE_IMPACT = 0.03\n",
    "\n",
    "# Load the total emissions for the district\n",
    "with open(\"data_processed/FUHSD_total_emissions.json\") as f:\n",
    "    fuhsd_total_emissions = json.load(f)[\"total_emissions\"]\n",
    "\n",
    "# Calculate base HVAC emissions (33% of total district emissions)\n",
    "base_hvac_emissions = fuhsd_total_emissions * HVAC_BASE_PERCENTAGE\n",
    "\n",
    "# Calculate emissions impact per degree deviation from optimal\n",
    "hvac_impact_per_degree = fuhsd_total_emissions * HVAC_DEGREE_IMPACT\n",
    "\n",
    "# Calculate emissions for different temperatures\n",
    "temperatures = range(OPTIMAL_TEMP_WINTER, OPTIMAL_TEMP_SUMMER + 1)\n",
    "hvac_emissions_per_temp = {\n",
    "    temp: base_hvac_emissions + (hvac_impact_per_degree * (temp - OPTIMAL_TEMP_WINTER))\n",
    "    for temp in temperatures\n",
    "}\n",
    "\n",
    "# Print the calculated HVAC emissions per temperature\n",
    "hvac_emissions_per_temp"
   ]
  },
  {
   "cell_type": "code",
   "execution_count": 10,
   "metadata": {},
   "outputs": [
    {
     "data": {
      "text/plain": [
       "{68: {'emissions': 2334600.4143000003, 'homes_powered': 96.53208222467833},\n",
       " 69: {'emissions': 2546836.8156000003, 'homes_powered': 105.30772606328546},\n",
       " 70: {'emissions': 2759073.2169000003, 'homes_powered': 114.08336990189258},\n",
       " 71: {'emissions': 2971309.6182000004, 'homes_powered': 122.8590137404997},\n",
       " 72: {'emissions': 3183546.0195000004, 'homes_powered': 131.63465757910683}}"
      ]
     },
     "execution_count": 10,
     "metadata": {},
     "output_type": "execute_result"
    }
   ],
   "source": [
    "# Constants for house emissions\n",
    "CO2_PER_HOME_YEARLY = 10969.99097832  # CO2 emissions per home in kg per year\n",
    "\n",
    "# Calculate emissions per degree deviation from optimal\n",
    "hvac_impact_per_degree = fuhsd_total_emissions * HVAC_DEGREE_IMPACT\n",
    "\n",
    "# Calculate HVAC emissions and corresponding homes powered for different temperatures\n",
    "hvac_emissions_per_temp = {\n",
    "    temp: {\n",
    "        \"emissions\": base_hvac_emissions + (hvac_impact_per_degree * (temp - OPTIMAL_TEMP_WINTER)),\n",
    "        \"homes_powered\": (base_hvac_emissions + (hvac_impact_per_degree * (temp - OPTIMAL_TEMP_WINTER))) / CO2_PER_HOME_YEARLY\n",
    "    }\n",
    "    for temp in range(OPTIMAL_TEMP_WINTER, OPTIMAL_TEMP_SUMMER + 1)\n",
    "}\n",
    "\n",
    "# Print the calculated HVAC emissions and homes powered per temperature\n",
    "hvac_emissions_per_temp\n"
   ]
  },
  {
   "cell_type": "code",
   "execution_count": 11,
   "metadata": {},
   "outputs": [
    {
     "data": {
      "text/plain": [
       "{68: {'emissions': 2334600, 'homes_powered': 97, 'trees_required': 48638},\n",
       " 69: {'emissions': 2546837, 'homes_powered': 105, 'trees_required': 53059},\n",
       " 70: {'emissions': 2759073, 'homes_powered': 114, 'trees_required': 57481},\n",
       " 71: {'emissions': 2971310, 'homes_powered': 123, 'trees_required': 61902},\n",
       " 72: {'emissions': 3183546, 'homes_powered': 132, 'trees_required': 66324}}"
      ]
     },
     "execution_count": 11,
     "metadata": {},
     "output_type": "execute_result"
    }
   ],
   "source": [
    "CO2_PER_TREE_YEARLY = 21.77209  # CO2 offset per tree in kg per year\n",
    "\n",
    "# Calculate HVAC emissions and corresponding homes/trees powered for different temperatures\n",
    "hvac_emissions_per_temp = {\n",
    "    temp: {\n",
    "        \"emissions\": round(base_hvac_emissions + (hvac_impact_per_degree * (temp - OPTIMAL_TEMP_WINTER))),\n",
    "        \"homes_powered\": round((base_hvac_emissions + (hvac_impact_per_degree * (temp - OPTIMAL_TEMP_WINTER))) / CO2_PER_HOME_YEARLY),\n",
    "        \"trees_required\": round((base_hvac_emissions + (hvac_impact_per_degree * (temp - OPTIMAL_TEMP_WINTER))) / CO2_PER_TREE_YEARLY)\n",
    "    }\n",
    "    for temp in range(OPTIMAL_TEMP_WINTER, OPTIMAL_TEMP_SUMMER + 1)\n",
    "}\n",
    "\n",
    "# Print the calculated HVAC emissions, homes powered, and trees required per temperature\n",
    "hvac_emissions_per_temp"
   ]
  }
 ],
 "metadata": {
  "kernelspec": {
   "display_name": "Python 3",
   "language": "python",
   "name": "python3"
  },
  "language_info": {
   "codemirror_mode": {
    "name": "ipython",
    "version": 3
   },
   "file_extension": ".py",
   "mimetype": "text/x-python",
   "name": "python",
   "nbconvert_exporter": "python",
   "pygments_lexer": "ipython3",
   "version": "3.11.9"
  }
 },
 "nbformat": 4,
 "nbformat_minor": 2
}
