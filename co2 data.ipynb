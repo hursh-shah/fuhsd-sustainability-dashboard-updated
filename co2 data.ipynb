{
 "cells": [
  {
   "cell_type": "code",
   "execution_count": 1,
   "metadata": {},
   "outputs": [
    {
     "name": "stdout",
     "output_type": "stream",
     "text": [
      "Error processing Cupertino.csv: [Errno 2] No such file or directory: '/mnt/data/Cupertino.csv'\n",
      "Error processing District Office.csv: [Errno 2] No such file or directory: '/mnt/data/District Office.csv'\n",
      "Error processing Fremont.csv: [Errno 2] No such file or directory: '/mnt/data/Fremont.csv'\n",
      "Error processing Homestead.csv: [Errno 2] No such file or directory: '/mnt/data/Homestead.csv'\n",
      "Error processing Lynbrook.csv: [Errno 2] No such file or directory: '/mnt/data/Lynbrook.csv'\n",
      "Error processing Monta Vista.csv: [Errno 2] No such file or directory: '/mnt/data/Monta Vista.csv'\n"
     ]
    }
   ],
   "source": [
    "import pandas as pd\n",
    "import json\n",
    "import os\n",
    "\n",
    "# Define the file names\n",
    "file_names = [\"Cupertino.csv\", \"District Office.csv\", \"Fremont.csv\", \"Homestead.csv\", \"Lynbrook.csv\", \"Monta Vista.csv\"]\n",
    "\n",
    "# Directory paths\n",
    "input_directory = '/mnt/data/'\n",
    "output_directory = '/mnt/data/processed/'\n",
    "\n",
    "# Create output directory if not exists\n",
    "if not os.path.exists(output_directory):\n",
    "    os.makedirs(output_directory)\n",
    "\n",
    "# Function to process CSV files\n",
    "def process_csv(file_name):\n",
    "    try:\n",
    "        # Read the CSV file\n",
    "        df = pd.read_csv(input_directory + file_name)\n",
    "        \n",
    "        # Print columns for debugging\n",
    "        print(f\"Processing {file_name}\")\n",
    "        print(f\"Columns: {df.columns.tolist()}\")\n",
    "        \n",
    "        # Extract Date and CO2 columns\n",
    "        if file_name == \"District Office.csv\":\n",
    "            co2_column = 'Total'\n",
    "        else:\n",
    "            co2_column = [col for col in df.columns if 'CO2' in col or 'Carbon' in col]\n",
    "            if not co2_column:\n",
    "                print(f\"No CO2/Carbon column found in {file_name}\")\n",
    "                return\n",
    "            co2_column = co2_column[0]\n",
    "        \n",
    "        df_co2 = df[[' Date', co2_column]].copy()\n",
    "        \n",
    "        # Rename columns\n",
    "        df_co2.columns = ['Date', 'CO2']\n",
    "        \n",
    "        # Save to new CSV\n",
    "        output_csv_file = output_directory + file_name.replace('.csv', '_co2.csv')\n",
    "        df_co2.to_csv(output_csv_file, index=False)\n",
    "        \n",
    "        # Convert to JSON\n",
    "        json_data = df_co2.to_json(orient='records')\n",
    "        output_json_file = output_csv_file.replace('.csv', '.json')\n",
    "        with open(output_json_file, 'w') as json_file:\n",
    "            json_file.write(json_data)\n",
    "        \n",
    "        print(f\"Processed {file_name} successfully.\")\n",
    "    \n",
    "    except Exception as e:\n",
    "        print(f\"Error processing {file_name}: {e}\")\n",
    "\n",
    "# Process each file\n",
    "for file_name in file_names:\n",
    "    process_csv(file_name)\n"
   ]
  },
  {
   "cell_type": "code",
   "execution_count": 4,
   "metadata": {},
   "outputs": [
    {
     "name": "stdout",
     "output_type": "stream",
     "text": [
      "          Day  Energy delivered (kWh)  AVG kWh delivered per session (kWh)  \\\n",
      "0  2023-08-01                     0.0                                  0.0   \n",
      "1  2023-08-02                     0.0                                  0.0   \n",
      "2  2023-08-03                     0.0                                  0.0   \n",
      "3  2023-08-04                     0.0                                  0.0   \n",
      "4  2023-08-05                     0.0                                  0.0   \n",
      "\n",
      "   Max kWh delivered per session (kWh) Max kW hour (kW)  GHGs avoided (lbs)  \\\n",
      "0                                  0.0                -                 0.0   \n",
      "1                                  0.0                -                 0.0   \n",
      "2                                  0.0                -                 0.0   \n",
      "3                                  0.0              7pm                 0.0   \n",
      "4                                  0.0                -                 0.0   \n",
      "\n",
      "   Gasoline avoided (Gal)  Electric miles provided (mi)  \\\n",
      "0                     0.0                           0.0   \n",
      "1                     0.0                           0.0   \n",
      "2                     0.0                           0.0   \n",
      "3                     0.0                           0.0   \n",
      "4                     0.0                           0.0   \n",
      "\n",
      "   Potential revenue ($)  Collected revenue ($)  Discounts granted ($)  \n",
      "0                    0.0                    0.0                    0.0  \n",
      "1                    0.0                    0.0                    0.0  \n",
      "2                    0.0                    0.0                    0.0  \n",
      "3                    0.0                    0.0                    0.0  \n",
      "4                    0.0                    0.0                    0.0  \n",
      "Index(['Day', 'Energy delivered (kWh)', 'AVG kWh delivered per session (kWh)',\n",
      "       'Max kWh delivered per session (kWh)', 'Max kW hour (kW)',\n",
      "       'GHGs avoided (lbs)', 'Gasoline avoided (Gal)',\n",
      "       'Electric miles provided (mi)', 'Potential revenue ($)',\n",
      "       'Collected revenue ($)', 'Discounts granted ($)'],\n",
      "      dtype='object')\n",
      "GHGs avoided (lbs)    16511.233875\n",
      "dtype: float64\n"
     ]
    }
   ],
   "source": [
    "import pandas as pd\n",
    "import json\n",
    "\n",
    "ev_data = pd.read_csv('./fuhsd_ev_data_22_23.csv')\n",
    "print(ev_data.head())\n",
    "print(ev_data.columns)\n",
    "print(ev_data[['GHGs avoided (lbs)']].sum())"
   ]
  },
  {
   "cell_type": "code",
   "execution_count": 15,
   "metadata": {},
   "outputs": [
    {
     "name": "stdout",
     "output_type": "stream",
     "text": [
      "Date     object\n",
      "CO2     float64\n",
      "dtype: object\n",
      "CO2    2224278.99\n",
      "dtype: float64\n",
      "Date     object\n",
      "CO2     float64\n",
      "dtype: object\n",
      "CO2    3651025.68\n",
      "dtype: float64\n",
      "Date     object\n",
      "CO2     float64\n",
      "dtype: object\n",
      "CO2    2212113.15\n",
      "dtype: float64\n",
      "Date     object\n",
      "CO2     float64\n",
      "dtype: object\n",
      "CO2    650868.99\n",
      "dtype: float64\n",
      "TOTAL IS CO2    8738286.81\n",
      "dtype: float64\n"
     ]
    }
   ],
   "source": [
    "total = 0\n",
    "schools=['Cupertino', 'Fremont', 'Lynbrook', 'District Office']\n",
    "for s in schools:\n",
    "    df = pd.read_csv('./data_processed/' + s + '_co2.csv')\n",
    "    df[['CO2']] = df[['CO2']].astype(float)\n",
    "    print(df.dtypes)\n",
    "    sum_co2 = df[['CO2']].sum()\n",
    "    print(sum_co2)\n",
    "    total += sum_co2\n",
    "\n",
    "print(\"TOTAL IS\", total)"
   ]
  }
 ],
 "metadata": {
  "kernelspec": {
   "display_name": "Python 3",
   "language": "python",
   "name": "python3"
  },
  "language_info": {
   "codemirror_mode": {
    "name": "ipython",
    "version": 3
   },
   "file_extension": ".py",
   "mimetype": "text/x-python",
   "name": "python",
   "nbconvert_exporter": "python",
   "pygments_lexer": "ipython3",
   "version": "3.11.9"
  }
 },
 "nbformat": 4,
 "nbformat_minor": 2
}
