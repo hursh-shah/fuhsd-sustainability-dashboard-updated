{
 "cells": [
  {
   "cell_type": "code",
   "execution_count": 15,
   "metadata": {},
   "outputs": [
    {
     "name": "stdout",
     "output_type": "stream",
     "text": [
      "Processing Cupertino.csv\n",
      "Columns: ['School', ' Date', ' KWH', ' Therms', 'Date Set 2', 'KWH', 'Therms', 'Date Set 3', 'Kwh', 'Therms.1', 'Unnamed: 10', 'KWH Co2', 'Therm CO2', 'Total']\n",
      "Error processing Cupertino.csv: \"[' Date Set 1'] not in index\"\n",
      "Processing District Office.csv\n",
      "Columns: ['School', ' Date', ' KWH', ' Therms', 'Date Set 2', 'KWH', 'Therm', 'Date Set 3', 'KWH.1', 'Therms', 'KWH Co2', 'Therms Co2', 'Total ']\n",
      "No CO2/Carbon column found in District Office.csv\n",
      "Processing Fremont.csv\n",
      "Columns: ['School', ' Date', ' KWH', ' Therms', 'Date Set 2', 'Unnamed: 5', 'Unnamed: 6', 'Date Set 3', 'Unnamed: 8', 'Unnamed: 9', 'Date Set 4', 'Unnamed: 11', 'Unnamed: 12', 'Unnamed: 13', 'KWH Co2', 'Therms CO2', 'Total']\n",
      "Error processing Fremont.csv: \"[' Date Set 1'] not in index\"\n",
      "Processing Homestead.csv\n",
      "Columns: ['School', ' Date Set 1', ' KWH', ' Therms', 'Date Set 2', 'KWH #2', 'Therms #2', 'Date Set 3', 'Kwh #3', 'Therms #3', 'KWH TO CO2', 'Therms to CO2', 'Unnamed: 12', 'KWH CO2', 'Therm CO2', 'Unnamed: 15', 'Total Carbon Emissions']\n",
      "Processed Homestead.csv successfully.\n",
      "Processing Lynbrook.csv\n",
      "Columns: ['School', ' Date Set 1', ' KWH', ' Therms', 'Unnamed: 4', 'KWH Co2', 'Therms CO2', 'Total']\n",
      "Processed Lynbrook.csv successfully.\n",
      "Processing Monta Vista.csv\n",
      "Columns: ['School', ' Date', ' KWH', ' Therms', 'KWH to CO2', 'Therms to CO2', 'Unnamed: 6', 'KWH to CO2.1', 'Gas to CO2', 'Total CO2 Emissions (Therms + KWH to Co2)']\n",
      "Error processing Monta Vista.csv: \"[' Date Set 1'] not in index\"\n"
     ]
    }
   ],
   "source": [
    "import pandas as pd\n",
    "import json\n",
    "import os\n",
    "\n",
    "# Define the file names\n",
    "file_names = [\"Cupertino.csv\", \"District Office.csv\", \"Fremont.csv\", \"Homestead.csv\", \"Lynbrook.csv\", \"Monta Vista.csv\"]\n",
    "\n",
    "# Directory paths\n",
    "input_directory = '/mnt/data/'\n",
    "output_directory = '/mnt/data/processed/'\n",
    "\n",
    "# Create output directory if not exists\n",
    "if not os.path.exists(output_directory):\n",
    "    os.makedirs(output_directory)\n",
    "\n",
    "# Function to process CSV files\n",
    "def process_csv(file_name):\n",
    "    try:\n",
    "        # Read the CSV file\n",
    "        df = pd.read_csv(input_directory + file_name)\n",
    "        \n",
    "        # Print columns for debugging\n",
    "        print(f\"Processing {file_name}\")\n",
    "        print(f\"Columns: {df.columns.tolist()}\")\n",
    "        \n",
    "        # Extract Date and CO2 columns\n",
    "        if file_name == \"District Office.csv\":\n",
    "            co2_column = 'Total'\n",
    "        else:\n",
    "            co2_column = [col for col in df.columns if 'CO2' in col or 'Carbon' in col]\n",
    "            if not co2_column:\n",
    "                print(f\"No CO2/Carbon column found in {file_name}\")\n",
    "                return\n",
    "            co2_column = co2_column[0]\n",
    "        \n",
    "        df_co2 = df[[' Date', co2_column]].copy()\n",
    "        \n",
    "        # Rename columns\n",
    "        df_co2.columns = ['Date', 'CO2']\n",
    "        \n",
    "        # Save to new CSV\n",
    "        output_csv_file = output_directory + file_name.replace('.csv', '_co2.csv')\n",
    "        df_co2.to_csv(output_csv_file, index=False)\n",
    "        \n",
    "        # Convert to JSON\n",
    "        json_data = df_co2.to_json(orient='records')\n",
    "        output_json_file = output_csv_file.replace('.csv', '.json')\n",
    "        with open(output_json_file, 'w') as json_file:\n",
    "            json_file.write(json_data)\n",
    "        \n",
    "        print(f\"Processed {file_name} successfully.\")\n",
    "    \n",
    "    except Exception as e:\n",
    "        print(f\"Error processing {file_name}: {e}\")\n",
    "\n",
    "# Process each file\n",
    "for file_name in file_names:\n",
    "    process_csv(file_name)\n"
   ]
  }
 ],
 "metadata": {
  "kernelspec": {
   "display_name": "Python 3",
   "language": "python",
   "name": "python3"
  },
  "language_info": {
   "codemirror_mode": {
    "name": "ipython",
    "version": 3
   },
   "file_extension": ".py",
   "mimetype": "text/x-python",
   "name": "python",
   "nbconvert_exporter": "python",
   "pygments_lexer": "ipython3",
   "version": "3.11.8"
  }
 },
 "nbformat": 4,
 "nbformat_minor": 2
}
